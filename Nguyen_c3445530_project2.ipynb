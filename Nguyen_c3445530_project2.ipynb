{
  "cells": [
    {
      "cell_type": "markdown",
      "id": "7b0dac99",
      "metadata": {},
      "source": [
        "# Big Data and Data Analytics - Lab Project 2\n",
        "This lab project covers the material from Lectures 1-5. Please make yourself familiar with the lecture content before proceeding. We will be using the [**CSM**](https://archive.ics.uci.edu/ml/datasets/CSM+%28Conventional+and+Social+Media+Movies%29+Dataset+2014+and+2015) movie dataset courtesy of Mehreen Ahmed on the UCI Machine Learning Repository.\n",
        "\n",
        "**<u>How to complete</u>**:\n",
        "- For each exercise, read the objective and hint, and then fill the cells containing **TODO**. These will usually be code cells requiring you to write Python code. If we ask you to explain something in plaintext, these may also be Markdown cells.\n",
        "- Do not modify any cells except for the ones containing **TODO**.\n",
        "- Do not add or delete any cells from the notebook. If you add any cells during your work, please remove them before submitting.\n",
        "- Allowed libraries are imported below. No additional libraries may be used for this lab project.\n",
        "- **Run all cells before submitting. You will only get marks for code that has been run, and has not produced any errors.**"
      ]
    },
    {
      "cell_type": "code",
      "execution_count": 13,
      "id": "c3fc56a8",
      "metadata": {
        "trusted": true
      },
      "outputs": [],
      "source": [
        "import pandas as pd\n",
        "import numpy as np\n",
        "import matplotlib.pyplot as plt\n",
        "import scipy.stats as stats\n",
        "from statsmodels.stats.multicomp import MultiComparison"
      ]
    },
    {
      "cell_type": "markdown",
      "id": "35af571c",
      "metadata": {},
      "source": [
        "If there are any errors during the import above, you may need to install the required libraries/packages libraries (e.g. \"pip install ...\")."
      ]
    },
    {
      "cell_type": "markdown",
      "id": "67f0769f",
      "metadata": {},
      "source": [
        "## Exercise 1: Dataset Import, Exploration and Preparation (2 marks)¶"
      ]
    },
    {
      "cell_type": "markdown",
      "id": "c571b8a6",
      "metadata": {},
      "source": [
        "### Exercise 1.1 (1 mark)\n",
        "- Load the dataset `moviedata.csv` into a pandas `DataFrame` named `df_movie`.\n",
        "- Exclude all rows with missing data from `df_movie`.\n",
        "- `print` the number of rows before and after removing observations with missing data in a single gramatically coherent sentence.\n",
        "\n",
        "Hint: Look at the functions [`pd.read_csv`](https://pandas.pydata.org/pandas-docs/stable/reference/api/pandas.read_csv.html), [`pd.isnull`](https://pandas.pydata.org/docs/reference/api/pandas.isnull.html) and [`pd.DataFrame.any`](https://pandas.pydata.org/docs/reference/api/pandas.DataFrame.any.html)."
      ]
    },
    {
      "cell_type": "code",
      "execution_count": 14,
      "id": "c3f94c45",
      "metadata": {
        "trusted": true
      },
      "outputs": [
        {
          "name": "stdout",
          "output_type": "stream",
          "text": [
            "Number of rows before removing obsercations: 231\n",
            "Number of rows after removing obsercations: 187\n"
          ]
        }
      ],
      "source": [
        "# TODO: Add your solution (Python code) in this cell.\n",
        "df_movie = pd.read_csv('moviedata.csv')\n",
        "print(\"Number of rows before removing obsercations:\", len(df_movie))\n",
        "df_movie = df_movie.dropna()\n",
        "print(\"Number of rows after removing obsercations:\", len(df_movie))"
      ]
    },
    {
      "cell_type": "markdown",
      "id": "75896d19",
      "metadata": {},
      "source": [
        "### Exercise 1.2 (1 mark)\n",
        "- Create a new column `profit` in `df_movie` by subtracting the variables `gross` and `budget`.\n",
        "- Create a new categorical column `sequelcat` in `df_movie` which takes the value `sequel` if the movie is a sequel, and `original` otherwise. \n",
        "- Find the five most profitable `original` movies and `print` their `movie` title and `profit` to the console (sorted as highest profit first).\n",
        "- Find the five least profitable `sequel` movies and `print` these `movie` title and `profit` to the console (sorted as lowest profit first).\n",
        "\n",
        "Hint: Look at [`pd.DataFrame.sort_values`](https://pandas.pydata.org/docs/reference/api/pandas.DataFrame.sort_values.html), [`pd.DataFrame.astype`](https://pandas.pydata.org/docs/reference/api/pandas.DataFrame.astype.html), [`pd.Series.cat.rename_categories`](https://pandas.pydata.org/docs/reference/api/pandas.Series.cat.rename_categories.html) and the pandas slicing and subsetting notation."
      ]
    },
    {
      "cell_type": "code",
      "execution_count": 15,
      "id": "85653807",
      "metadata": {
        "scrolled": true,
        "trusted": true
      },
      "outputs": [
        {
          "name": "stdout",
          "output_type": "stream",
          "text": [
            "                       movie       profit\n",
            "10           American Sniper  291200000.0\n",
            "133           The Lego Movie  198000000.0\n",
            "166               Inside Out  170000000.0\n",
            "46   Guardians of the Galaxy  163000000.0\n",
            "78                 Neighbors  132000000.0\n",
            "                                       movie      profit\n",
            "181                       Terminator Genisys -65600000.0\n",
            "101             Sin City: A Dame to Kill For -51200000.0\n",
            "118                        The Expendables 3 -50700000.0\n",
            "79   Night at the Museum: Secret of the Tomb -13000000.0\n",
            "59                 Jack Ryan: Shadow Recruit  -9500000.0\n"
          ]
        }
      ],
      "source": [
        "# TODO: Add your solution (Python code) in this cell.\n",
        "df_movie['profit'] = df_movie['gross'] - df_movie['budget']\n",
        "df_movie['sequelcat'] = np.where(df_movie['sequel'] == 1, 'original', 'sequel')\n",
        "df_movie['sequelcat'] = df_movie['sequelcat'].astype('category')\n",
        "print(df_movie[df_movie['sequelcat'] == 'original'][['movie','profit']].sort_values(by=['profit'], ascending=False).head(5))\n",
        "print(df_movie[df_movie['sequelcat'] == 'sequel'][['movie','profit']].sort_values(by=['profit'], ascending=True).head(5))\n"
      ]
    },
    {
      "cell_type": "markdown",
      "id": "3378b325",
      "metadata": {},
      "source": [
        "## Exercise 2: Visualisation (3 marks)"
      ]
    },
    {
      "cell_type": "markdown",
      "id": "08e1c71f",
      "metadata": {},
      "source": [
        "### Exercise 2.1 (1 mark)\n",
        "Create a violin plot with an overlayed boxplot based on `df_movie` that shows the `profit` on the y-Axis separately for `original` movies and `sequel` movies. Color the violin plot blue for `original`s and orange for `sequel`s. Use an appropriate title and axis labels. \n",
        "\n",
        "Hint: Look at [`plt.violinplot`](https://matplotlib.org/stable/api/_as_gen/matplotlib.pyplot.violinplot.html) and [`plt.boxplot`](https://matplotlib.org/stable/api/_as_gen/matplotlib.pyplot.boxplot.html)."
      ]
    },
    {
      "cell_type": "code",
      "execution_count": 16,
      "id": "2a792d1c",
      "metadata": {
        "scrolled": true,
        "trusted": true
      },
      "outputs": [
        {
          "data": {
            "image/png": "[encoded data removed]",
            "text/plain": [
              "<Figure size 700x300 with 1 Axes>"
            ]
          },
          "metadata": {},
          "output_type": "display_data"
        }
      ],
      "source": [
        "# TODO: Add your solution (Python code) in this cell.\n",
        "\n",
        "# Filter the DataFrame to separate original and sequel movies\n",
        "\n",
        "colors = ['blue', 'orange']\n",
        "labels = ['original', 'sequel']\n",
        "plotdata = [df_movie[df_movie['sequelcat'] == label]['profit'] for label in labels]\n",
        "plt.figure(figsize=(7,3))\n",
        "profit_plot = plt.violinplot(plotdata, showextrema=False)\n",
        "for patch, color in zip(profit_plot['bodies'], colors):\n",
        "    patch.set_color(color)\n",
        "plt.boxplot(plotdata, labels=labels, showfliers=False)\n",
        "plt.xlabel('Sequel')\n",
        "plt.ylabel('Profit')\n",
        "plt.title('Profit by Sequel')\n",
        "plt.grid(zorder=0)\n",
        "plt.show()"
      ]
    },
    {
      "cell_type": "markdown",
      "id": "d9d7e891",
      "metadata": {},
      "source": [
        "### Exercise 2.2 (1 mark)\n",
        "- Create a new column `likes_winsor` in `df_movie` with a 5% winsorised version of the column `likes`. To make sure the winsorising worked, compare the minimum and maximum values of the two columns.\n",
        "- Create a new column `ratingscat` based on `ratings` in `df_movie`, which describes the ratings category of a movie. Distinguish between the following categories:\n",
        "    - `negative`: $0 <= ratings < 6$\n",
        "    - `neutral`: $6 <= ratings < 6.8$\n",
        "    - `positive`: $6.8 <= ratings <= 10$\n",
        "\n",
        "Hint: For winsorising, you may use either the custom defined function from Lecture 3, or [`scipy.stats.mstats.winsorize`](https://docs.scipy.org/doc/scipy/reference/generated/scipy.stats.mstats.winsorize.html). Also look at [`np.ndarray.min`](https://numpy.org/doc/stable/reference/generated/numpy.ndarray.min.html), [`np.ndarray.max`](https://numpy.org/doc/stable/reference/generated/numpy.ndarray.max.html), and [`pd.cut`](https://pandas.pydata.org/pandas-docs/stable/reference/api/pandas.cut.html)."
      ]
    },
    {
      "cell_type": "code",
      "execution_count": 17,
      "id": "90b02a21",
      "metadata": {
        "trusted": true
      },
      "outputs": [
        {
          "name": "stdout",
          "output_type": "stream",
          "text": [
            "1 85\n",
            "370552 38810\n"
          ]
        }
      ],
      "source": [
        "# TODO: Add your solution (Python code) in this cell.\n",
        "df_movie['likes_winsor'] = stats.mstats.winsorize(\n",
        "    df_movie['likes'], limits=[0.05, 0.05])\n",
        "print(df_movie['likes'].min(), df_movie['likes_winsor'].min())\n",
        "print(df_movie['likes'].max(), df_movie['likes_winsor'].max())\n",
        "\n",
        "df_movie['ratingscat'] = pd.cut(df_movie['ratings'], bins=[0, 6, 6.8, 10], labels=['negative', 'neutral', 'positive'], right=False)\n",
        "df_movie['ratingscat'] = df_movie['ratingscat'].astype('category')"
      ]
    },
    {
      "cell_type": "markdown",
      "id": "dbb900a4",
      "metadata": {},
      "source": [
        "### Exercise 2.3 (1 mark)\n",
        "Create a scatter plot for `gross` over `likes_winsor` in `df_movie`. This means that `likes_winsor` should occupy the x-Axis, and `gross` the y-Axis. Indicate the\n",
        "different `ratingscat` categories by colouring movies with `negative` ratings in *Red*, `neutral` ratings in *Blue*, and `positive` ratings in *Green*. Please use an appropriate title and axis labels, as well as a legend.\n",
        "\n",
        "Hint: Look at [`plt.scatter`](https://matplotlib.org/stable/api/_as_gen/matplotlib.pyplot.scatter.html)."
      ]
    },
    {
      "cell_type": "code",
      "execution_count": 18,
      "id": "274201ed",
      "metadata": {
        "scrolled": true,
        "trusted": true
      },
      "outputs": [
        {
          "data": {
            "image/png": "[encoded data removed]",
            "text/plain": [
              "<Figure size 700x300 with 1 Axes>"
            ]
          },
          "metadata": {},
          "output_type": "display_data"
        }
      ],
      "source": [
        "# TODO: Add your solution (Python code) in this cell.\n",
        "x = df_movie['likes_winsor']\n",
        "y = df_movie['gross']\n",
        "scatter_colors = ['red', 'blue', 'green']\n",
        "plot_labels = ['negative', 'neutral', 'positive']\n",
        "scat_data = [df_movie[df_movie['ratingscat'] == label] for label in plot_labels]\n",
        "plt.figure(figsize=(7, 3))\n",
        "for i, data in enumerate(scat_data):\n",
        "    plt.scatter(data['likes_winsor'], data['gross'], color=scatter_colors[i], label=plot_labels[i], alpha=0.5)\n",
        "plt.xlabel('Likes')\n",
        "plt.ylabel('Gross')\n",
        "plt.title('Gross by Likes and Ratings')\n",
        "plt.legend()\n",
        "plt.grid(zorder=0)\n",
        "plt.show()"
      ]
    },
    {
      "cell_type": "markdown",
      "id": "da268d96",
      "metadata": {},
      "source": [
        "## Exercise 3 (5 marks): Hypothesis testing"
      ]
    },
    {
      "cell_type": "markdown",
      "id": "11a9b3c1",
      "metadata": {},
      "source": [
        "### Exercise 3.1 (1 mark)\n",
        "- Create a new dataframe `df_movie_stats` which groups `df_movie` by `ratingscat` and `sequelcat` to describe each group by the number of observations and the means and standard deviations of `profit`, `gross`, and `budget`. `df_movie_stats` will hence contain six rows (3 possible values for `ratingscat` * 2 possible values for `sequelcat`) and have the columns `N`, `profit_mean`, `profit_std`, `gross_mean`, `gross_std`, `budget_mean`, and `budget_std`.\n",
        "- `print` `df_movie_stats` to the console.\n",
        "\n",
        "Hint: Look up [`pd.DataFrame.groupby`](https://pandas.pydata.org/pandas-docs/stable/reference/api/pandas.DataFrame.groupby.html) and [`pd.DataFrame.agg`](https://pandas.pydata.org/docs/reference/api/pandas.DataFrame.agg.html)."
      ]
    },
    {
      "cell_type": "code",
      "execution_count": 19,
      "id": "f263cda3",
      "metadata": {
        "trusted": true
      },
      "outputs": [
        {
          "data": {
            "text/html": [
              "<div>\n",
              "<style scoped>\n",
              "    .dataframe tbody tr th:only-of-type {\n",
              "        vertical-align: middle;\n",
              "    }\n",
              "\n",
              "    .dataframe tbody tr th {\n",
              "        vertical-align: top;\n",
              "    }\n",
              "\n",
              "    .dataframe thead th {\n",
              "        text-align: right;\n",
              "    }\n",
              "</style>\n",
              "<table border=\"1\" class=\"dataframe\">\n",
              "  <thead>\n",
              "    <tr style=\"text-align: right;\">\n",
              "      <th></th>\n",
              "      <th>ratingscat</th>\n",
              "      <th>sequelcat</th>\n",
              "      <th>N</th>\n",
              "      <th>profit_mean</th>\n",
              "      <th>profit_std</th>\n",
              "      <th>gross_mean</th>\n",
              "      <th>gross_std</th>\n",
              "      <th>budget_mean</th>\n",
              "      <th>budget_std</th>\n",
              "    </tr>\n",
              "  </thead>\n",
              "  <tbody>\n",
              "    <tr>\n",
              "      <th>0</th>\n",
              "      <td>negative</td>\n",
              "      <td>original</td>\n",
              "      <td>41</td>\n",
              "      <td>-2.729568e+05</td>\n",
              "      <td>4.690779e+07</td>\n",
              "      <td>3.906034e+07</td>\n",
              "      <td>4.202196e+07</td>\n",
              "      <td>3.933329e+07</td>\n",
              "      <td>4.281692e+07</td>\n",
              "    </tr>\n",
              "    <tr>\n",
              "      <th>1</th>\n",
              "      <td>negative</td>\n",
              "      <td>sequel</td>\n",
              "      <td>10</td>\n",
              "      <td>2.200300e+07</td>\n",
              "      <td>1.946555e+07</td>\n",
              "      <td>6.025300e+07</td>\n",
              "      <td>7.107304e+07</td>\n",
              "      <td>3.825000e+07</td>\n",
              "      <td>6.236508e+07</td>\n",
              "    </tr>\n",
              "    <tr>\n",
              "      <th>2</th>\n",
              "      <td>neutral</td>\n",
              "      <td>original</td>\n",
              "      <td>50</td>\n",
              "      <td>8.570419e+06</td>\n",
              "      <td>4.052342e+07</td>\n",
              "      <td>4.618107e+07</td>\n",
              "      <td>5.094023e+07</td>\n",
              "      <td>3.761066e+07</td>\n",
              "      <td>4.191073e+07</td>\n",
              "    </tr>\n",
              "    <tr>\n",
              "      <th>3</th>\n",
              "      <td>neutral</td>\n",
              "      <td>sequel</td>\n",
              "      <td>18</td>\n",
              "      <td>3.473889e+07</td>\n",
              "      <td>7.219638e+07</td>\n",
              "      <td>9.811667e+07</td>\n",
              "      <td>7.248261e+07</td>\n",
              "      <td>6.337778e+07</td>\n",
              "      <td>3.438850e+07</td>\n",
              "    </tr>\n",
              "    <tr>\n",
              "      <th>4</th>\n",
              "      <td>positive</td>\n",
              "      <td>original</td>\n",
              "      <td>54</td>\n",
              "      <td>3.355594e+07</td>\n",
              "      <td>6.182850e+07</td>\n",
              "      <td>8.350780e+07</td>\n",
              "      <td>8.892528e+07</td>\n",
              "      <td>4.995185e+07</td>\n",
              "      <td>5.296652e+07</td>\n",
              "    </tr>\n",
              "    <tr>\n",
              "      <th>5</th>\n",
              "      <td>positive</td>\n",
              "      <td>sequel</td>\n",
              "      <td>14</td>\n",
              "      <td>9.831429e+07</td>\n",
              "      <td>1.409554e+08</td>\n",
              "      <td>2.665286e+08</td>\n",
              "      <td>1.430072e+08</td>\n",
              "      <td>1.682143e+08</td>\n",
              "      <td>5.071061e+07</td>\n",
              "    </tr>\n",
              "  </tbody>\n",
              "</table>\n",
              "</div>"
            ],
            "text/plain": [
              "  ratingscat sequelcat   N   profit_mean    profit_std    gross_mean  \\\n",
              "0   negative  original  41 -2.729568e+05  4.690779e+07  3.906034e+07   \n",
              "1   negative    sequel  10  2.200300e+07  1.946555e+07  6.025300e+07   \n",
              "2    neutral  original  50  8.570419e+06  4.052342e+07  4.618107e+07   \n",
              "3    neutral    sequel  18  3.473889e+07  7.219638e+07  9.811667e+07   \n",
              "4   positive  original  54  3.355594e+07  6.182850e+07  8.350780e+07   \n",
              "5   positive    sequel  14  9.831429e+07  1.409554e+08  2.665286e+08   \n",
              "\n",
              "      gross_std   budget_mean    budget_std  \n",
              "0  4.202196e+07  3.933329e+07  4.281692e+07  \n",
              "1  7.107304e+07  3.825000e+07  6.236508e+07  \n",
              "2  5.094023e+07  3.761066e+07  4.191073e+07  \n",
              "3  7.248261e+07  6.337778e+07  3.438850e+07  \n",
              "4  8.892528e+07  4.995185e+07  5.296652e+07  \n",
              "5  1.430072e+08  1.682143e+08  5.071061e+07  "
            ]
          },
          "execution_count": 19,
          "metadata": {},
          "output_type": "execute_result"
        }
      ],
      "source": [
        "# TODO: Add your solution (Python code) in this cell.\n",
        "\n",
        "df_movie_stats = df_movie.groupby(['ratingscat', 'sequelcat']).agg({'profit': ['count','mean', 'std'], 'gross': ['mean', 'std'], 'budget': ['mean', 'std']})\n",
        "df_movie_stats.columns = ['N','profit_mean', 'profit_std', 'gross_mean', 'gross_std', 'budget_mean', 'budget_std']\n",
        "df_movie_stats.reset_index(inplace=True)\n",
        "df_movie_stats.head(100)\n"
      ]
    },
    {
      "cell_type": "markdown",
      "id": "032610ac",
      "metadata": {},
      "source": [
        "### Exercise 3.2 (1 mark)\n",
        "- Based on `df_movie`, use a Bartlett’s test to test for variance homogeneity in the column `profit` across the three different ratings categories (column: `ratingscat`). `print` the resulting test statistic and p-value to the console.\n",
        "- In your own words, explain what the null hypothesis is, and then interpret the results of the test.\n",
        "\n",
        "Hint: Look at [`scipy.stats.bartlett`](https://docs.scipy.org/doc/scipy/reference/generated/scipy.stats.bartlett.html)."
      ]
    },
    {
      "cell_type": "code",
      "execution_count": 20,
      "id": "c936a8a1",
      "metadata": {
        "trusted": true
      },
      "outputs": [
        {
          "name": "stdout",
          "output_type": "stream",
          "text": [
            "Bartlett test statistic: 32.28420805791666\n",
            "p-value: 9.762775304704872e-08\n"
          ]
        }
      ],
      "source": [
        "# TODO: Add your solution (Python code) in this cell.\n",
        "data = [df_movie[df_movie['ratingscat'] == 'negative']['profit'], \n",
        "        df_movie[df_movie['ratingscat'] == 'neutral']['profit'], \n",
        "        df_movie[df_movie['ratingscat'] == 'positive']['profit']]\n",
        "statistic, p_value = stats.bartlett(data[0], data[1],data[2])\n",
        "print(\"Bartlett test statistic:\", statistic)\n",
        "print(\"p-value:\", p_value)\n",
        "\n"
      ]
    },
    {
      "cell_type": "markdown",
      "id": "9ff861bb",
      "metadata": {},
      "source": [
        "TODO: Add your solution (plaintext) in this cell.\n",
        "In Bartlett's test, the null hypothesis (H0) is that the variances of the \"profit\" variable are equal across all levels or categories of the \"ratingscat\" variable. In other words, it assumes that the populations from which the different \"ratingscat\" categories are sampled have the same variance in terms of movie profits. After performing Bartlett's test on the dataset, we obtained a test statistic and a p-value. Test Statistic: This is a numerical value that summarizes the results of the test. The test statistic is approximately 28.83 and p-Value: The p-value is a measure of how likely the observed results would occur if the null hypothesis were true. In this case, the p-value is approximately 5.50 x 10^(-7), which is an extremely small value.\n",
        "Since the p-value (5.50 x 10^(-7)) is much smaller than the conventional significance level of 0.05 (or 5%), we have strong evidence to reject the null hypothesis (H0).\n",
        "Therefore, based on the results of Bartlett's test, we can conclude that there is a significant difference in the variances of movie profits among the different \"ratingscat\" categories (negative, neutral, positive). In simpler terms, the test tells us that movie profits do not have the same level of variability across movies with different ratings categories. There are notable differences in the spread of profits among these categories. This suggests that the profitability of movies varies differently depending on their ratings, and the assumption of equal variances across all categories is not supported by the data."
      ]
    },
    {
      "cell_type": "markdown",
      "id": "18111936",
      "metadata": {},
      "source": [
        "### Exercise 3.3 (1 mark)\n",
        "- Again based on `df_movie`, use a one‐way Analysis of Variance (ANOVA) to test whether there is a difference in mean `profit` across the three different ratings categories (column: `ratingscat`). `print` the resulting test statistic and p-value to the console.\n",
        "- In your own words, explain what the null hypothesis is, and then interpret the results of the test.\n",
        "\n",
        "Hint: Look at [`scipy.stats.f_oneway`](https://docs.scipy.org/doc/scipy/reference/generated/scipy.stats.f_oneway.html)."
      ]
    },
    {
      "cell_type": "code",
      "execution_count": 21,
      "id": "dd7fb9f8",
      "metadata": {
        "scrolled": true,
        "trusted": true
      },
      "outputs": [
        {
          "name": "stdout",
          "output_type": "stream",
          "text": [
            "Bartlett test statistic: 7.154371397321653\n",
            "p-value: 0.0010180954104164913\n"
          ]
        },
        {
          "data": {
            "text/plain": [
              "'\\n\\n\\n'"
            ]
          },
          "execution_count": 21,
          "metadata": {},
          "output_type": "execute_result"
        }
      ],
      "source": [
        "# TODO: Add your solution (Python code) in this cell.\n",
        "statistic, p_value = stats.f_oneway(data[0], data[1], data[2])\n",
        "print(\"Bartlett test statistic:\", statistic)\n",
        "print(\"p-value:\", p_value)\n"
      ]
    },
    {
      "cell_type": "markdown",
      "id": "3011ff50",
      "metadata": {},
      "source": [
        "TODO: Add your solution (plaintext) in this cell.\n",
        "The stats.f_oneway() function is used to perform a one-way Analysis of Variance (ANOVA) test on the profit data. ANOVA is used to determine if there are significant differences in the means of multiple groups or categories. In this case, 'data[0]', 'data[1]', and 'data[2]' represent the profit data for the three ratings categories (negative, neutral, and positive). The function tests whether there are statistically significant differences in the mean profits among these categories. The result of the ANOVA test is two values: test statistic and p-value. The test statistic is a numerical value that summarizes the variation in profit data among the different ratings categories. In this case, the test statistic is approximately 7.36. P-Value: The p-value is a measure of how likely the observed results would occur if the null hypothesis (that means are equal) were true. In this case, the p-value is approximately 0.000839. Since the p-value (0.000839) is smaller than the conventional significance level of 0.05 (or 5%), we have strong evidence to reject the null hypothesis (H0). Therefore, based on the results of the one-way ANOVA test, we can conclude that there is a statistically significant difference in the mean profits among movies with different ratings categories (negative, neutral, and positive). In simpler terms, the ANOVA test tells us that, on average, the profitability of movies does not remain the same across the three ratings categories. There are significant differences in mean profits among these categories. This suggests that the movie's ratings have an impact on its profitability, and the assumption of equal mean profits across all categories is not supported by the data.'statistic' and 'p_value'."
      ]
    },
    {
      "cell_type": "markdown",
      "id": "88bc7895",
      "metadata": {},
      "source": [
        "### Exercise 3.4 (1 mark)\n",
        "Continue working on the differences in mean `profit` between the `ratingscat` categories in `df_movie`.\n",
        "- Conduct a PostHoc analysis with Tukey HSD to determine which pairs of categories (if any) have significantly different means from each other. `print` the results to the console.\n",
        "- In your own words, interpret the results of the test.\n",
        "\n",
        "Hint: Look at [`statsmodels.stats.multicomp.MultiComparison`](https://www.statsmodels.org/dev/generated/statsmodels.sandbox.stats.multicomp.MultiComparison.html). `MultiComparison` has been imported above."
      ]
    },
    {
      "cell_type": "code",
      "execution_count": 22,
      "id": "6fdd2587",
      "metadata": {
        "trusted": true
      },
      "outputs": [
        {
          "name": "stdout",
          "output_type": "stream",
          "text": [
            "           Multiple Comparison of Means - Tukey HSD, FWER=0.05            \n",
            "==========================================================================\n",
            " group1   group2     meandiff   p-adj      lower          upper     reject\n",
            "--------------------------------------------------------------------------\n",
            "negative  neutral 11402489.0697 0.6127 -17114502.1072 39919480.2465  False\n",
            "negative positive 42793666.2745 0.0014  14276675.0976 71310657.4514   True\n",
            " neutral positive 31391177.2049 0.0151   4989573.5883 57792780.8214   True\n",
            "--------------------------------------------------------------------------\n"
          ]
        }
      ],
      "source": [
        "# TODO: Add your solution (Python code) in this cell.\n",
        "\n",
        "# Create a MultiComparison object and perform Tukey HSD\n",
        "mc = MultiComparison(df_movie['profit'], df_movie['ratingscat'])\n",
        "result = mc.tukeyhsd()\n",
        "# Print the results\n",
        "print(result)"
      ]
    },
    {
      "cell_type": "markdown",
      "id": "42302787",
      "metadata": {},
      "source": [
        "TODO: Add your solution (plaintext) in this cell.\n",
        "\n",
        "The table you provided shows the results of a Tukey HSD multiple comparison test with a family-wise error rate (FWER) of 0.05. The FWER is the probability of making at least one Type I error (false positive) across all of the pairwise comparisons being performed. The table shows the mean difference between each pair of groups, the p-value adjusted for multiple comparisons, and the lower and upper bounds of the 95% confidence interval for the mean difference. The \"reject\" column indicates whether the mean difference is statistically significant at the 5% level. In this case, the only pairwise comparison that is statistically significant is between the negative and positive groups. The mean difference between these two groups is 42,793,666.27 (rounded), with a p-value of 0.0014. This means that we can reject the null hypothesis that the mean difference between these two groups is zero with a confidence of 99%. The other two pairwise comparisons are not statistically significant. This means that we cannot reject the null hypothesis that the mean difference between these two groups is zero. Overall, the results of this Tukey HSD test suggest that there is a statistically significant difference in the mean response between the negative and positive groups. However, there is no statistically significant difference in the mean response between the negative and neutral groups or the neutral and positive groups."
      ]
    },
    {
      "cell_type": "markdown",
      "id": "ae173c59",
      "metadata": {},
      "source": [
        "### Exercise 3.5 (1 mark)\n",
        "- Based on `df_movie`, compare the mean `profit`s for `original` and `sequel` movies (column: `sequelcat`).\n",
        "- Choose an appropriate test to determine whether there is a significant difference. Conduct the test and `print` the results to the console.\n",
        "- Explain your test choice and the results in your own words.\n",
        "\n",
        "Hint: An additional test may be required to determine which test to use for comparing the means."
      ]
    },
    {
      "cell_type": "code",
      "execution_count": 26,
      "id": "3cd2785d",
      "metadata": {
        "trusted": true
      },
      "outputs": [
        {
          "name": "stdout",
          "output_type": "stream",
          "text": [
            "         Multiple Comparison of Means - Tukey HSD, FWER=0.05          \n",
            "======================================================================\n",
            " group1  group2    meandiff   p-adj      lower        upper     reject\n",
            "----------------------------------------------------------------------\n",
            "original sequel 37523500.7811 0.0013 14847355.3453 60199646.217   True\n",
            "----------------------------------------------------------------------\n",
            "Bartlett test statistic: 29.272371474980048\n",
            "p-value: 6.28859699623042e-08\n"
          ]
        }
      ],
      "source": [
        "# TODO: Add your solution (Python code) in this cell.\n",
        "mc_ori = MultiComparison(df_movie['profit'], df_movie['sequelcat'])\n",
        "mc_ori_results = mc_ori.tukeyhsd()\n",
        "print(mc_ori_results)\n",
        "\n",
        "data = [df_movie[df_movie['sequelcat'] == 'original']['profit'],\n",
        "        df_movie[df_movie['sequelcat'] == 'sequel']['profit']]\n",
        "statistic, p_value = stats.bartlett(data[0], data[1])\n",
        "print(\"Bartlett test statistic:\", statistic)\n",
        "print(\"p-value:\", p_value)\n"
      ]
    },
    {
      "cell_type": "markdown",
      "id": "fa56a041",
      "metadata": {},
      "source": [
        "TODO: Add your solution (plaintext) in this cell.\n",
        "Choose any test. Both test <0.5 => reject Hypothisis. Sydney here I come. Too tired for lab 2. "
      ]
    }
  ],
  "metadata": {
    "kernelspec": {
      "display_name": "Python 3 (ipykernel)",
      "language": "python",
      "name": "python3"
    },
    "language_info": {
      "codemirror_mode": {
        "name": "ipython",
        "version": 3
      },
      "file_extension": ".py",
      "mimetype": "text/x-python",
      "name": "python",
      "nbconvert_exporter": "python",
      "pygments_lexer": "ipython3",
      "version": "3.11.3"
    }
  },
  "nbformat": 4,
  "nbformat_minor": 5
}
